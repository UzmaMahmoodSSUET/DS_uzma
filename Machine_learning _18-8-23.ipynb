{
 "cells": [
  {
   "cell_type": "markdown",
   "id": "316a3f79",
   "metadata": {},
   "source": [
    "# Machine_learning"
   ]
  },
  {
   "cell_type": "code",
   "execution_count": null,
   "id": "6ee3217a",
   "metadata": {},
   "outputs": [],
   "source": [
    "Supervised learning - input and output define (data and labels are present)\n",
    "#     Regression\n",
    "#     classificatiom\n",
    "# unsupervised = only data is present\n",
    "#     Clustering\n",
    "#     Dimensionality reduction\n",
    "# reinforcement= data is unknown learning is best on exploration"
   ]
  },
  {
   "cell_type": "code",
   "execution_count": null,
   "id": "7ba8eb14",
   "metadata": {},
   "outputs": [],
   "source": [
    "data =pd.read_cvs('%w')"
   ]
  },
  {
   "cell_type": "code",
   "execution_count": null,
   "id": "d808729d",
   "metadata": {},
   "outputs": [],
   "source": [
    "def line(m,c):\n",
    "    y=m3c\n",
    "    \n"
   ]
  },
  {
   "cell_type": "code",
   "execution_count": null,
   "id": "4fb475ba",
   "metadata": {},
   "outputs": [],
   "source": [
    "import numpy as np\n",
    "test=np.array ([67])"
   ]
  },
  {
   "cell_type": "code",
   "execution_count": null,
   "id": "ddd74255",
   "metadata": {},
   "outputs": [],
   "source": [
    "loss = ((y-y))"
   ]
  }
 ],
 "metadata": {
  "kernelspec": {
   "display_name": "Python 3 (ipykernel)",
   "language": "python",
   "name": "python3"
  },
  "language_info": {
   "codemirror_mode": {
    "name": "ipython",
    "version": 3
   },
   "file_extension": ".py",
   "mimetype": "text/x-python",
   "name": "python",
   "nbconvert_exporter": "python",
   "pygments_lexer": "ipython3",
   "version": "3.11.3"
  }
 },
 "nbformat": 4,
 "nbformat_minor": 5
}
