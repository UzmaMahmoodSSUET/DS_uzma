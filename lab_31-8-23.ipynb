{
 "cells": [
  {
   "cell_type": "code",
   "execution_count": 29,
   "id": "4964e3cc",
   "metadata": {},
   "outputs": [],
   "source": [
    "import tensorflow\n",
    "from tensorflow import keras"
   ]
  },
  {
   "cell_type": "code",
   "execution_count": 30,
   "id": "c2f6928e",
   "metadata": {},
   "outputs": [],
   "source": [
    "from tensorflow.keras.datasets import imdb\n",
    "(train_data, train_labels), (test_data, test_labels)=imdb.load_data(num_words=10000)"
   ]
  },
  {
   "cell_type": "code",
   "execution_count": 31,
   "id": "ff087df9",
   "metadata": {},
   "outputs": [],
   "source": [
    "import numpy as np\n",
    "def vectorize_sequences(sequences, dimension=10000):\n",
    "                        results = np.zeros((len(sequences), dimension))\n",
    "                        for i, sequence in enumerate (sequences):\n",
    "                            results[i, sequence] = 1.\n",
    "                        return results                     "
   ]
  },
  {
   "cell_type": "code",
   "execution_count": 32,
   "id": "ce279cee",
   "metadata": {},
   "outputs": [],
   "source": [
    "x_train = vectorize_sequences(train_data)\n",
    "x_test = vectorize_sequences(test_data)"
   ]
  },
  {
   "cell_type": "code",
   "execution_count": 33,
   "id": "276a812d",
   "metadata": {},
   "outputs": [
    {
     "data": {
      "text/plain": [
       "array([1, 0, 0, ..., 0, 1, 0], dtype=int64)"
      ]
     },
     "execution_count": 33,
     "metadata": {},
     "output_type": "execute_result"
    }
   ],
   "source": [
    "train_labels"
   ]
  },
  {
   "cell_type": "code",
   "execution_count": 34,
   "id": "57d1e504",
   "metadata": {},
   "outputs": [
    {
     "data": {
      "text/plain": [
       "(25000,)"
      ]
     },
     "execution_count": 34,
     "metadata": {},
     "output_type": "execute_result"
    }
   ],
   "source": [
    "train_labels.shape"
   ]
  },
  {
   "cell_type": "code",
   "execution_count": 35,
   "id": "6287d0df",
   "metadata": {},
   "outputs": [],
   "source": [
    "y_train =np.asarray(train_labels).astype('float32')\n",
    "y_test = np.asarray(test_labels).astype('float32')"
   ]
  },
  {
   "cell_type": "code",
   "execution_count": 36,
   "id": "a19e4ea1",
   "metadata": {},
   "outputs": [
    {
     "data": {
      "text/plain": [
       "array([[0., 1., 1., ..., 0., 0., 0.],\n",
       "       [0., 1., 1., ..., 0., 0., 0.],\n",
       "       [0., 1., 1., ..., 0., 0., 0.],\n",
       "       ...,\n",
       "       [0., 1., 1., ..., 0., 0., 0.],\n",
       "       [0., 1., 1., ..., 0., 0., 0.],\n",
       "       [0., 1., 1., ..., 0., 0., 0.]])"
      ]
     },
     "execution_count": 36,
     "metadata": {},
     "output_type": "execute_result"
    }
   ],
   "source": [
    "x_train"
   ]
  },
  {
   "cell_type": "code",
   "execution_count": 37,
   "id": "20516d00",
   "metadata": {},
   "outputs": [
    {
     "data": {
      "text/plain": [
       "array([0., 1., 1., ..., 0., 0., 0.], dtype=float32)"
      ]
     },
     "execution_count": 37,
     "metadata": {},
     "output_type": "execute_result"
    }
   ],
   "source": [
    "y_test"
   ]
  },
  {
   "cell_type": "code",
   "execution_count": 38,
   "id": "026ea61b",
   "metadata": {},
   "outputs": [],
   "source": [
    "from tensorflow import keras \n",
    "from tensorflow.keras import layers\n",
    "model = keras.Sequential([\n",
    " layers.Dense(16, activation=\"relu\"),\n",
    " layers.Dense(16, activation=\"relu\"),\n",
    " layers.Dense(1, activation=\"sigmoid\")\n",
    "])"
   ]
  },
  {
   "cell_type": "code",
   "execution_count": 39,
   "id": "a0278a20",
   "metadata": {},
   "outputs": [],
   "source": [
    "model.compile(optimizer=\"rmsprop\",\n",
    " loss=\"binary_crossentropy\",\n",
    " metrics=[\"accuracy\"])"
   ]
  },
  {
   "cell_type": "code",
   "execution_count": 40,
   "id": "4aef6085",
   "metadata": {},
   "outputs": [],
   "source": [
    "x_val = x_train[:10000]\n",
    "partial_x_train = x_train[10000:]\n",
    "y_val = y_train[:10000]\n",
    "partial_y_train = y_train[10000:]"
   ]
  },
  {
   "cell_type": "code",
   "execution_count": 41,
   "id": "0e05819f",
   "metadata": {},
   "outputs": [
    {
     "name": "stdout",
     "output_type": "stream",
     "text": [
      "Epoch 1/20\n",
      "30/30 [==============================] - 2s 35ms/step - loss: 0.5266 - accuracy: 0.7770 - val_loss: 0.4108 - val_accuracy: 0.8513\n",
      "Epoch 2/20\n",
      "30/30 [==============================] - 0s 12ms/step - loss: 0.3248 - accuracy: 0.8940 - val_loss: 0.3139 - val_accuracy: 0.8866\n",
      "Epoch 3/20\n",
      "30/30 [==============================] - 0s 12ms/step - loss: 0.2443 - accuracy: 0.9191 - val_loss: 0.2851 - val_accuracy: 0.8888\n",
      "Epoch 4/20\n",
      "30/30 [==============================] - 0s 13ms/step - loss: 0.1957 - accuracy: 0.9353 - val_loss: 0.2754 - val_accuracy: 0.8895\n",
      "Epoch 5/20\n",
      "30/30 [==============================] - 0s 13ms/step - loss: 0.1644 - accuracy: 0.9459 - val_loss: 0.2778 - val_accuracy: 0.8864\n",
      "Epoch 6/20\n",
      "30/30 [==============================] - 0s 12ms/step - loss: 0.1388 - accuracy: 0.9572 - val_loss: 0.2857 - val_accuracy: 0.8851\n",
      "Epoch 7/20\n",
      "30/30 [==============================] - 0s 12ms/step - loss: 0.1205 - accuracy: 0.9619 - val_loss: 0.2911 - val_accuracy: 0.8850\n",
      "Epoch 8/20\n",
      "30/30 [==============================] - 0s 13ms/step - loss: 0.1024 - accuracy: 0.9703 - val_loss: 0.3095 - val_accuracy: 0.8809\n",
      "Epoch 9/20\n",
      "30/30 [==============================] - 0s 12ms/step - loss: 0.0896 - accuracy: 0.9737 - val_loss: 0.3376 - val_accuracy: 0.8798\n",
      "Epoch 10/20\n",
      "30/30 [==============================] - 0s 12ms/step - loss: 0.0783 - accuracy: 0.9792 - val_loss: 0.3412 - val_accuracy: 0.8782\n",
      "Epoch 11/20\n",
      "30/30 [==============================] - 0s 13ms/step - loss: 0.0646 - accuracy: 0.9835 - val_loss: 0.3510 - val_accuracy: 0.8780\n",
      "Epoch 12/20\n",
      "30/30 [==============================] - 0s 12ms/step - loss: 0.0578 - accuracy: 0.9856 - val_loss: 0.3688 - val_accuracy: 0.8777\n",
      "Epoch 13/20\n",
      "30/30 [==============================] - 0s 13ms/step - loss: 0.0476 - accuracy: 0.9892 - val_loss: 0.3842 - val_accuracy: 0.8808\n",
      "Epoch 14/20\n",
      "30/30 [==============================] - 0s 12ms/step - loss: 0.0398 - accuracy: 0.9917 - val_loss: 0.4112 - val_accuracy: 0.8746\n",
      "Epoch 15/20\n",
      "30/30 [==============================] - 0s 12ms/step - loss: 0.0308 - accuracy: 0.9951 - val_loss: 0.4431 - val_accuracy: 0.8683\n",
      "Epoch 16/20\n",
      "30/30 [==============================] - 0s 13ms/step - loss: 0.0299 - accuracy: 0.9939 - val_loss: 0.4508 - val_accuracy: 0.8744\n",
      "Epoch 17/20\n",
      "30/30 [==============================] - 0s 12ms/step - loss: 0.0258 - accuracy: 0.9961 - val_loss: 0.4650 - val_accuracy: 0.8743\n",
      "Epoch 18/20\n",
      "30/30 [==============================] - 0s 12ms/step - loss: 0.0194 - accuracy: 0.9978 - val_loss: 0.5038 - val_accuracy: 0.8695\n",
      "Epoch 19/20\n",
      "30/30 [==============================] - 0s 12ms/step - loss: 0.0177 - accuracy: 0.9977 - val_loss: 0.5199 - val_accuracy: 0.8723\n",
      "Epoch 20/20\n",
      "30/30 [==============================] - 0s 12ms/step - loss: 0.0137 - accuracy: 0.9987 - val_loss: 0.5271 - val_accuracy: 0.8728\n"
     ]
    }
   ],
   "source": [
    "history = model.fit(partial_x_train,\n",
    " partial_y_train,\n",
    " epochs=20,\n",
    " batch_size=512,\n",
    " validation_data=(x_val, y_val))"
   ]
  },
  {
   "cell_type": "code",
   "execution_count": 46,
   "id": "50cebb45",
   "metadata": {},
   "outputs": [],
   "source": [
    "history_dic= history.history"
   ]
  },
  {
   "cell_type": "code",
   "execution_count": 47,
   "id": "888ebdef",
   "metadata": {},
   "outputs": [
    {
     "data": {
      "text/plain": [
       "{'loss': [0.5265589952468872,\n",
       "  0.32480859756469727,\n",
       "  0.2442713975906372,\n",
       "  0.19568094611167908,\n",
       "  0.1644468605518341,\n",
       "  0.138810396194458,\n",
       "  0.12054793536663055,\n",
       "  0.10238496959209442,\n",
       "  0.0895775556564331,\n",
       "  0.0782545730471611,\n",
       "  0.06462123245000839,\n",
       "  0.057833556085824966,\n",
       "  0.047621652483940125,\n",
       "  0.039757516235113144,\n",
       "  0.030781446024775505,\n",
       "  0.02989307977259159,\n",
       "  0.025835609063506126,\n",
       "  0.0194252897053957,\n",
       "  0.017679372802376747,\n",
       "  0.013667385093867779],\n",
       " 'accuracy': [0.7770000100135803,\n",
       "  0.8939999938011169,\n",
       "  0.9191333055496216,\n",
       "  0.9352666735649109,\n",
       "  0.9458666443824768,\n",
       "  0.9571999907493591,\n",
       "  0.9619333148002625,\n",
       "  0.9702666401863098,\n",
       "  0.9737333059310913,\n",
       "  0.979200005531311,\n",
       "  0.9834666848182678,\n",
       "  0.9855999946594238,\n",
       "  0.9891999959945679,\n",
       "  0.9916666746139526,\n",
       "  0.9951333403587341,\n",
       "  0.9938666820526123,\n",
       "  0.996066689491272,\n",
       "  0.9977999925613403,\n",
       "  0.9977333545684814,\n",
       "  0.9987333416938782],\n",
       " 'val_loss': [0.4108316898345947,\n",
       "  0.313884973526001,\n",
       "  0.28509700298309326,\n",
       "  0.2754036486148834,\n",
       "  0.27779915928840637,\n",
       "  0.285657674074173,\n",
       "  0.2910720109939575,\n",
       "  0.3095298707485199,\n",
       "  0.3375556170940399,\n",
       "  0.34124693274497986,\n",
       "  0.35100916028022766,\n",
       "  0.36883097887039185,\n",
       "  0.3842269778251648,\n",
       "  0.41121527552604675,\n",
       "  0.4431423246860504,\n",
       "  0.45079731941223145,\n",
       "  0.4650134742259979,\n",
       "  0.5037969350814819,\n",
       "  0.5198972821235657,\n",
       "  0.5270626544952393],\n",
       " 'val_accuracy': [0.8513000011444092,\n",
       "  0.8866000175476074,\n",
       "  0.8888000249862671,\n",
       "  0.8895000219345093,\n",
       "  0.8863999843597412,\n",
       "  0.8851000070571899,\n",
       "  0.8849999904632568,\n",
       "  0.8809000253677368,\n",
       "  0.879800021648407,\n",
       "  0.8781999945640564,\n",
       "  0.878000020980835,\n",
       "  0.8776999711990356,\n",
       "  0.8808000087738037,\n",
       "  0.8745999932289124,\n",
       "  0.8683000206947327,\n",
       "  0.8744000196456909,\n",
       "  0.8743000030517578,\n",
       "  0.8694999814033508,\n",
       "  0.8723000288009644,\n",
       "  0.8727999925613403]}"
      ]
     },
     "execution_count": 47,
     "metadata": {},
     "output_type": "execute_result"
    }
   ],
   "source": [
    "history_dic"
   ]
  },
  {
   "cell_type": "code",
   "execution_count": 48,
   "id": "0aaad8e4",
   "metadata": {},
   "outputs": [
    {
     "data": {
      "text/plain": [
       "dict_keys(['loss', 'accuracy', 'val_loss', 'val_accuracy'])"
      ]
     },
     "execution_count": 48,
     "metadata": {},
     "output_type": "execute_result"
    }
   ],
   "source": [
    "history_dic.keys()"
   ]
  },
  {
   "cell_type": "code",
   "execution_count": 42,
   "id": "e2f158cd",
   "metadata": {},
   "outputs": [
    {
     "data": {
      "image/png": "[encoded data removed]",
      "text/plain": [
       "<Figure size 640x480 with 1 Axes>"
      ]
     },
     "metadata": {},
     "output_type": "display_data"
    }
   ],
   "source": [
    "import matplotlib.pyplot as plt\n",
    "history_dict = history.history\n",
    "loss_values = history_dict[\"loss\"]\n",
    "val_loss_values = history_dict[\"val_loss\"]\n",
    "epochs = range(1, len(loss_values) + 1)\n",
    "plt.plot(epochs, loss_values, \"bo\", label=\"Training loss\")\n",
    "plt.plot(epochs, val_loss_values, \"b\", label=\"Validation loss\") \n",
    "plt.title(\"Training and validation loss\")\n",
    "plt.xlabel(\"Epochs\")\n",
    "plt.ylabel(\"Loss\")\n",
    "plt.legend()\n",
    "plt.show()"
   ]
  },
  {
   "cell_type": "code",
   "execution_count": 43,
   "id": "8e55e1a5",
   "metadata": {},
   "outputs": [
    {
     "data": {
      "image/png": "[encoded data removed]",
      "text/plain": [
       "<Figure size 640x480 with 1 Axes>"
      ]
     },
     "metadata": {},
     "output_type": "display_data"
    }
   ],
   "source": [
    "plt.clf()\n",
    "acc = history_dict[\"accuracy\"]\n",
    "val_acc = history_dict[\"val_accuracy\"]\n",
    "plt.plot(epochs, acc, \"bo\", label=\"Training acc\")\n",
    "plt.plot(epochs, val_acc, \"b\", label=\"Validation acc\")\n",
    "plt.title(\"Training and validation accuracy\")\n",
    "plt.xlabel(\"Epochs\")\n",
    "plt.ylabel(\"Accuracy\")\n",
    "plt.legend()\n",
    "plt.show()"
   ]
  },
  {
   "cell_type": "code",
   "execution_count": 49,
   "id": "9c06b449",
   "metadata": {},
   "outputs": [],
   "source": [
    "model = keras.Sequential([\n",
    " layers.Dense(16, activation=\"relu\"),\n",
    " layers.Dense(16, activation=\"relu\"),\n",
    " layers.Dense(1, activation=\"sigmoid\")\n",
    " ])"
   ]
  },
  {
   "cell_type": "code",
   "execution_count": 50,
   "id": "38fe64d8",
   "metadata": {},
   "outputs": [
    {
     "name": "stdout",
     "output_type": "stream",
     "text": [
      "Epoch 1/4\n",
      "49/49 [==============================] - 1s 8ms/step - loss: 0.4791 - accuracy: 0.8098\n",
      "Epoch 2/4\n",
      "49/49 [==============================] - 0s 8ms/step - loss: 0.2803 - accuracy: 0.9010\n",
      "Epoch 3/4\n",
      "49/49 [==============================] - 0s 8ms/step - loss: 0.2159 - accuracy: 0.9215\n",
      "Epoch 4/4\n",
      "49/49 [==============================] - 0s 8ms/step - loss: 0.1865 - accuracy: 0.9326\n",
      "782/782 [==============================] - 1s 2ms/step - loss: 0.2877 - accuracy: 0.8850\n"
     ]
    }
   ],
   "source": [
    "model.compile(optimizer=\"rmsprop\",\n",
    " loss=\"binary_crossentropy\",\n",
    " metrics=[\"accuracy\"])\n",
    "model.fit(x_train, y_train, epochs=4, batch_size=512)\n",
    "results = model.evaluate(x_test, y_test)"
   ]
  },
  {
   "cell_type": "code",
   "execution_count": 51,
   "id": "8e5d6d09",
   "metadata": {},
   "outputs": [
    {
     "name": "stdout",
     "output_type": "stream",
     "text": [
      "782/782 [==============================] - 1s 2ms/step - loss: 0.2877 - accuracy: 0.8850\n"
     ]
    }
   ],
   "source": [
    "results= model.evaluate(x_test, y_test)"
   ]
  },
  {
   "cell_type": "code",
   "execution_count": 52,
   "id": "beea0e77",
   "metadata": {},
   "outputs": [
    {
     "data": {
      "text/plain": [
       "[0.28773629665374756, 0.8849599957466125]"
      ]
     },
     "execution_count": 52,
     "metadata": {},
     "output_type": "execute_result"
    }
   ],
   "source": [
    "results"
   ]
  },
  {
   "cell_type": "code",
   "execution_count": 54,
   "id": "c89c971f",
   "metadata": {},
   "outputs": [
    {
     "name": "stdout",
     "output_type": "stream",
     "text": [
      "1/1 [==============================] - 0s 88ms/step\n"
     ]
    },
    {
     "data": {
      "text/plain": [
       "array([[0.23153177]], dtype=float32)"
      ]
     },
     "execution_count": 54,
     "metadata": {},
     "output_type": "execute_result"
    }
   ],
   "source": [
    "model.predict(x_test[0].reshape(1,10000))"
   ]
  },
  {
   "cell_type": "code",
   "execution_count": 55,
   "id": "028317cd",
   "metadata": {},
   "outputs": [
    {
     "data": {
      "text/plain": [
       "0.0"
      ]
     },
     "execution_count": 55,
     "metadata": {},
     "output_type": "execute_result"
    }
   ],
   "source": [
    "y_test[0]"
   ]
  },
  {
   "cell_type": "code",
   "execution_count": 57,
   "id": "949092b1",
   "metadata": {},
   "outputs": [
    {
     "name": "stdout",
     "output_type": "stream",
     "text": [
      "1/1 [==============================] - 0s 20ms/step\n",
      "Negative\n"
     ]
    }
   ],
   "source": [
    "if model.predict(x_test[0].reshape(1,10000)) >0.5:\n",
    "    print ('positive')\n",
    "else:\n",
    "    print ('Negative')"
   ]
  },
  {
   "cell_type": "code",
   "execution_count": 58,
   "id": "af3d2bea",
   "metadata": {},
   "outputs": [
    {
     "data": {
      "text/plain": [
       "1.0"
      ]
     },
     "execution_count": 58,
     "metadata": {},
     "output_type": "execute_result"
    }
   ],
   "source": [
    "y_test[1]"
   ]
  },
  {
   "cell_type": "code",
   "execution_count": 59,
   "id": "37a9eaf5",
   "metadata": {},
   "outputs": [
    {
     "name": "stdout",
     "output_type": "stream",
     "text": [
      "input your reviewwhat a movieee I really enjoyed all the scenes !!\n"
     ]
    }
   ],
   "source": [
    "review = input(\"input your review\")"
   ]
  },
  {
   "cell_type": "code",
   "execution_count": 60,
   "id": "10715550",
   "metadata": {},
   "outputs": [],
   "source": [
    "from sklearn.feature_extraction.text import CountVectorizer"
   ]
  },
  {
   "cell_type": "code",
   "execution_count": 62,
   "id": "a276c402",
   "metadata": {},
   "outputs": [],
   "source": [
    "vectorizer = CountVectorizer(binary = True, ngram_range=(1,1))"
   ]
  },
  {
   "cell_type": "markdown",
   "id": "665f5fce",
   "metadata": {},
   "source": [
    "# 2nd Example"
   ]
  },
  {
   "cell_type": "code",
   "execution_count": 63,
   "id": "da5ba486",
   "metadata": {},
   "outputs": [
    {
     "name": "stdout",
     "output_type": "stream",
     "text": [
      "Downloading data from https://storage.googleapis.com/tensorflow/tf-keras-datasets/reuters.npz\n",
      "2110848/2110848 [==============================] - 0s 0us/step\n"
     ]
    }
   ],
   "source": [
    "from tensorflow.keras.datasets import reuters\n",
    "(train_data, train_labels), (test_data, test_labels) = reuters.load_data(\n",
    " num_words=10000)"
   ]
  },
  {
   "cell_type": "markdown",
   "id": "34ff1dbe",
   "metadata": {},
   "source": [
    ">>> len(train_data)\n",
    "8982\n",
    ">>> len(test_data)\n",
    "2246"
   ]
  },
  {
   "cell_type": "code",
   "execution_count": 64,
   "id": "156bf608",
   "metadata": {},
   "outputs": [
    {
     "name": "stdout",
     "output_type": "stream",
     "text": [
      "Downloading data from https://storage.googleapis.com/tensorflow/tf-keras-datasets/reuters_word_index.json\n",
      "550378/550378 [==============================] - 0s 0us/step\n"
     ]
    }
   ],
   "source": [
    "word_index = reuters.get_word_index()\n",
    "reverse_word_index = dict(\n",
    " [(value, key) for (key, value) in word_index.items()])\n",
    "decoded_newswire = \" \".join(\n",
    " [reverse_word_index.get(i - 3, \"?\") for i in train_data[0]]) "
   ]
  },
  {
   "cell_type": "code",
   "execution_count": 65,
   "id": "586b8f84",
   "metadata": {},
   "outputs": [],
   "source": [
    "x_train = vectorize_sequences(train_data)\n",
    "x_test = vectorize_sequences(test_data)"
   ]
  },
  {
   "cell_type": "code",
   "execution_count": 90,
   "id": "4dea6f7a",
   "metadata": {},
   "outputs": [
    {
     "data": {
      "text/plain": [
       "22460000"
      ]
     },
     "execution_count": 90,
     "metadata": {},
     "output_type": "execute_result"
    }
   ],
   "source": [
    "x_test.size"
   ]
  },
  {
   "cell_type": "code",
   "execution_count": 71,
   "id": "bb6fabfe",
   "metadata": {},
   "outputs": [],
   "source": [
    "def to_one_hot(labels, dimension = 46):\n",
    "    results = np.zeros((len(labels), dimension))\n",
    "    for i, label in enumerate(labels):\n",
    "        results[i, label] = 1.\n",
    "    return results\n",
    "\n",
    "\n"
   ]
  },
  {
   "cell_type": "code",
   "execution_count": 72,
   "id": "6b85b12a",
   "metadata": {},
   "outputs": [],
   "source": [
    "y_train = to_one_hot(train_labels) \n",
    "y_test = to_one_hot(test_labels)"
   ]
  },
  {
   "cell_type": "code",
   "execution_count": 73,
   "id": "f605acb0",
   "metadata": {},
   "outputs": [],
   "source": [
    "model = keras.Sequential([\n",
    " layers.Dense(64, activation=\"relu\"),\n",
    " layers.Dense(64, activation=\"relu\"),\n",
    " layers.Dense(46, activation=\"softmax\")\n",
    "])"
   ]
  },
  {
   "cell_type": "code",
   "execution_count": 74,
   "id": "8ead9a04",
   "metadata": {},
   "outputs": [],
   "source": [
    "model.compile(optimizer=\"rmsprop\",\n",
    " loss=\"categorical_crossentropy\",\n",
    " metrics=[\"accuracy\"])\n"
   ]
  },
  {
   "cell_type": "code",
   "execution_count": 76,
   "id": "0f9fe029",
   "metadata": {},
   "outputs": [],
   "source": [
    "x_val = x_train[:1000]\n",
    "partial_x_train = x_train[1000:]\n",
    "y_val = y_train[:1000]\n",
    "partial_y_train = y_train[1000:]"
   ]
  },
  {
   "cell_type": "code",
   "execution_count": 77,
   "id": "7a13d13c",
   "metadata": {},
   "outputs": [
    {
     "name": "stdout",
     "output_type": "stream",
     "text": [
      "Epoch 1/20\n",
      "16/16 [==============================] - 1s 34ms/step - loss: 2.7568 - accuracy: 0.4525 - val_loss: 1.8792 - val_accuracy: 0.5840\n",
      "Epoch 2/20\n",
      "16/16 [==============================] - 0s 19ms/step - loss: 1.5589 - accuracy: 0.6734 - val_loss: 1.4006 - val_accuracy: 0.6890\n",
      "Epoch 3/20\n",
      "16/16 [==============================] - 0s 18ms/step - loss: 1.1957 - accuracy: 0.7423 - val_loss: 1.2156 - val_accuracy: 0.7480\n",
      "Epoch 4/20\n",
      "16/16 [==============================] - 0s 20ms/step - loss: 0.9888 - accuracy: 0.7886 - val_loss: 1.0946 - val_accuracy: 0.7670\n",
      "Epoch 5/20\n",
      "16/16 [==============================] - 0s 18ms/step - loss: 0.8174 - accuracy: 0.8270 - val_loss: 1.0155 - val_accuracy: 0.7860\n",
      "Epoch 6/20\n",
      "16/16 [==============================] - 0s 18ms/step - loss: 0.6895 - accuracy: 0.8519 - val_loss: 0.9675 - val_accuracy: 0.7880\n",
      "Epoch 7/20\n",
      "16/16 [==============================] - 0s 19ms/step - loss: 0.5762 - accuracy: 0.8761 - val_loss: 0.9327 - val_accuracy: 0.7930\n",
      "Epoch 8/20\n",
      "16/16 [==============================] - 0s 20ms/step - loss: 0.4889 - accuracy: 0.8956 - val_loss: 0.9048 - val_accuracy: 0.7990\n",
      "Epoch 9/20\n",
      "16/16 [==============================] - 0s 19ms/step - loss: 0.4112 - accuracy: 0.9141 - val_loss: 0.9084 - val_accuracy: 0.8020\n",
      "Epoch 10/20\n",
      "16/16 [==============================] - 0s 18ms/step - loss: 0.3529 - accuracy: 0.9223 - val_loss: 0.8639 - val_accuracy: 0.8180\n",
      "Epoch 11/20\n",
      "16/16 [==============================] - 0s 19ms/step - loss: 0.3045 - accuracy: 0.9326 - val_loss: 0.8671 - val_accuracy: 0.8220\n",
      "Epoch 12/20\n",
      "16/16 [==============================] - 0s 19ms/step - loss: 0.2649 - accuracy: 0.9409 - val_loss: 0.8979 - val_accuracy: 0.8050\n",
      "Epoch 13/20\n",
      "16/16 [==============================] - 0s 18ms/step - loss: 0.2364 - accuracy: 0.9442 - val_loss: 0.8780 - val_accuracy: 0.8160\n",
      "Epoch 14/20\n",
      "16/16 [==============================] - 0s 17ms/step - loss: 0.2116 - accuracy: 0.9468 - val_loss: 0.8812 - val_accuracy: 0.8130\n",
      "Epoch 15/20\n",
      "16/16 [==============================] - 0s 21ms/step - loss: 0.1939 - accuracy: 0.9518 - val_loss: 0.9192 - val_accuracy: 0.8110\n",
      "Epoch 16/20\n",
      "16/16 [==============================] - 0s 17ms/step - loss: 0.1785 - accuracy: 0.9515 - val_loss: 0.9118 - val_accuracy: 0.8120\n",
      "Epoch 17/20\n",
      "16/16 [==============================] - 0s 17ms/step - loss: 0.1607 - accuracy: 0.9539 - val_loss: 0.9315 - val_accuracy: 0.8160\n",
      "Epoch 18/20\n",
      "16/16 [==============================] - 0s 17ms/step - loss: 0.1570 - accuracy: 0.9546 - val_loss: 0.9601 - val_accuracy: 0.8050\n",
      "Epoch 19/20\n",
      "16/16 [==============================] - 0s 17ms/step - loss: 0.1464 - accuracy: 0.9557 - val_loss: 0.9551 - val_accuracy: 0.8100\n",
      "Epoch 20/20\n",
      "16/16 [==============================] - 0s 17ms/step - loss: 0.1385 - accuracy: 0.9563 - val_loss: 0.9777 - val_accuracy: 0.8080\n"
     ]
    }
   ],
   "source": [
    "history = model.fit(partial_x_train,\n",
    "partial_y_train,\n",
    "epochs=20,\n",
    "batch_size=512,\n",
    "validation_data=(x_val, y_val))"
   ]
  },
  {
   "cell_type": "code",
   "execution_count": 78,
   "id": "98ed104e",
   "metadata": {},
   "outputs": [
    {
     "data": {
      "image/png": "[encoded data removed]",
      "text/plain": [
       "<Figure size 640x480 with 1 Axes>"
      ]
     },
     "metadata": {},
     "output_type": "display_data"
    }
   ],
   "source": [
    "loss = history.history[\"loss\"]\n",
    "val_loss = history.history[\"val_loss\"]\n",
    "epochs = range(1, len(loss) + 1)\n",
    "plt.plot(epochs, loss, \"bo\", label=\"Training loss\")\n",
    "plt.plot(epochs, val_loss, \"b\", label=\"Validation loss\")\n",
    "plt.title(\"Training and validation loss\")\n",
    "plt.xlabel(\"Epochs\")\n",
    "plt.ylabel(\"Loss\")\n",
    "plt.legend()\n",
    "plt.show()"
   ]
  },
  {
   "cell_type": "code",
   "execution_count": 79,
   "id": "b5fecc35",
   "metadata": {},
   "outputs": [
    {
     "name": "stdout",
     "output_type": "stream",
     "text": [
      "Epoch 1/9\n",
      "18/18 [==============================] - 1s 17ms/step - loss: 2.6396 - accuracy: 0.4529\n",
      "Epoch 2/9\n",
      "18/18 [==============================] - 0s 16ms/step - loss: 1.5470 - accuracy: 0.6620\n",
      "Epoch 3/9\n",
      "18/18 [==============================] - 0s 16ms/step - loss: 1.1801 - accuracy: 0.7432\n",
      "Epoch 4/9\n",
      "18/18 [==============================] - 0s 16ms/step - loss: 0.9568 - accuracy: 0.7984\n",
      "Epoch 5/9\n",
      "18/18 [==============================] - 0s 16ms/step - loss: 0.7898 - accuracy: 0.8300\n",
      "Epoch 6/9\n",
      "18/18 [==============================] - 0s 16ms/step - loss: 0.6539 - accuracy: 0.8607\n",
      "Epoch 7/9\n",
      "18/18 [==============================] - 0s 16ms/step - loss: 0.5460 - accuracy: 0.8832\n",
      "Epoch 8/9\n",
      "18/18 [==============================] - 0s 16ms/step - loss: 0.4613 - accuracy: 0.9028\n",
      "Epoch 9/9\n",
      "18/18 [==============================] - 0s 15ms/step - loss: 0.3889 - accuracy: 0.9166\n",
      "71/71 [==============================] - 0s 2ms/step - loss: 0.8990 - accuracy: 0.7903\n"
     ]
    }
   ],
   "source": [
    "model = keras.Sequential([\n",
    "     layers.Dense(64, activation=\"relu\"),\n",
    "     layers.Dense(64, activation=\"relu\"),\n",
    "     layers.Dense(46, activation=\"softmax\")\n",
    "])\n",
    "model.compile(optimizer=\"rmsprop\",\n",
    " loss=\"categorical_crossentropy\",\n",
    " metrics=[\"accuracy\"])\n",
    "model.fit(x_train,\n",
    " y_train,\n",
    " epochs=9,\n",
    " batch_size=512)\n",
    "results = model.evaluate(x_test, y_test)"
   ]
  },
  {
   "cell_type": "code",
   "execution_count": 80,
   "id": "4d45f160",
   "metadata": {},
   "outputs": [
    {
     "data": {
      "text/plain": [
       "[0.8990213871002197, 0.7902938723564148]"
      ]
     },
     "execution_count": 80,
     "metadata": {},
     "output_type": "execute_result"
    }
   ],
   "source": [
    "results"
   ]
  },
  {
   "cell_type": "code",
   "execution_count": 98,
   "id": "eda7f85b",
   "metadata": {},
   "outputs": [
    {
     "name": "stdout",
     "output_type": "stream",
     "text": [
      "71/71 [==============================] - 0s 2ms/step\n"
     ]
    }
   ],
   "source": [
    "predictions = model.predict(x_test)"
   ]
  },
  {
   "cell_type": "code",
   "execution_count": 99,
   "id": "7022fefc",
   "metadata": {},
   "outputs": [
    {
     "data": {
      "text/plain": [
       "0.18655387355298308"
      ]
     },
     "execution_count": 99,
     "metadata": {},
     "output_type": "execute_result"
    }
   ],
   "source": [
    ">>> import copy\n",
    ">>> test_labels_copy = copy.copy(test_labels)\n",
    ">>> np.random.shuffle(test_labels_copy)\n",
    ">>> hits_array = np.array(test_labels) == np.array(test_labels_copy)\n",
    ">>> hits_array.mean()\n",
    "0.18655387355298308\n"
   ]
  },
  {
   "cell_type": "code",
   "execution_count": 100,
   "id": "133871bb",
   "metadata": {},
   "outputs": [
    {
     "data": {
      "text/plain": [
       "(2246, 46)"
      ]
     },
     "execution_count": 100,
     "metadata": {},
     "output_type": "execute_result"
    }
   ],
   "source": [
    "predictions.shape"
   ]
  },
  {
   "cell_type": "code",
   "execution_count": 101,
   "id": "28ba9f15",
   "metadata": {},
   "outputs": [
    {
     "data": {
      "text/plain": [
       "(46,)"
      ]
     },
     "execution_count": 101,
     "metadata": {},
     "output_type": "execute_result"
    }
   ],
   "source": [
    "predictions[0].shape"
   ]
  },
  {
   "cell_type": "code",
   "execution_count": 102,
   "id": "5b6a9947",
   "metadata": {},
   "outputs": [
    {
     "data": {
      "text/plain": [
       "1.0000002"
      ]
     },
     "execution_count": 102,
     "metadata": {},
     "output_type": "execute_result"
    }
   ],
   "source": [
    " np.sum(predictions[0])"
   ]
  },
  {
   "cell_type": "code",
   "execution_count": 103,
   "id": "65cb3201",
   "metadata": {},
   "outputs": [
    {
     "data": {
      "text/plain": [
       "3"
      ]
     },
     "execution_count": 103,
     "metadata": {},
     "output_type": "execute_result"
    }
   ],
   "source": [
    " np.argmax(predictions[0])"
   ]
  },
  {
   "cell_type": "code",
   "execution_count": 106,
   "id": "70848aa9",
   "metadata": {},
   "outputs": [
    {
     "data": {
      "text/plain": [
       "3"
      ]
     },
     "execution_count": 106,
     "metadata": {},
     "output_type": "execute_result"
    }
   ],
   "source": [
    "y_test[0]"
   ]
  },
  {
   "cell_type": "code",
   "execution_count": 95,
   "id": "1eb5ea08",
   "metadata": {},
   "outputs": [
    {
     "data": {
      "text/plain": [
       "3"
      ]
     },
     "execution_count": 95,
     "metadata": {},
     "output_type": "execute_result"
    }
   ],
   "source": [
    "y_test[0]"
   ]
  },
  {
   "cell_type": "code",
   "execution_count": 87,
   "id": "dfe9b60d",
   "metadata": {},
   "outputs": [],
   "source": [
    "y_train = np.array(train_labels)\n",
    "y_test = np.array(test_labels)"
   ]
  },
  {
   "cell_type": "code",
   "execution_count": 88,
   "id": "098f4781",
   "metadata": {},
   "outputs": [],
   "source": [
    "model.compile(optimizer=\"rmsprop\",\n",
    " loss=\"sparse_categorical_crossentropy\",\n",
    " metrics=[\"accuracy\"])"
   ]
  },
  {
   "cell_type": "code",
   "execution_count": 89,
   "id": "0645b41d",
   "metadata": {},
   "outputs": [
    {
     "name": "stdout",
     "output_type": "stream",
     "text": [
      "Epoch 1/20\n",
      "63/63 [==============================] - 1s 11ms/step - loss: 3.2894 - accuracy: 0.2167 - val_loss: 2.8332 - val_accuracy: 0.2290\n",
      "Epoch 2/20\n",
      "63/63 [==============================] - 1s 8ms/step - loss: 2.4727 - accuracy: 0.2898 - val_loss: 2.1555 - val_accuracy: 0.3190\n",
      "Epoch 3/20\n",
      "63/63 [==============================] - 1s 8ms/step - loss: 1.7505 - accuracy: 0.5039 - val_loss: 1.5324 - val_accuracy: 0.6650\n",
      "Epoch 4/20\n",
      "63/63 [==============================] - 1s 8ms/step - loss: 1.3122 - accuracy: 0.6889 - val_loss: 1.3799 - val_accuracy: 0.6690\n",
      "Epoch 5/20\n",
      "63/63 [==============================] - 1s 8ms/step - loss: 1.1728 - accuracy: 0.7033 - val_loss: 1.3244 - val_accuracy: 0.6740\n",
      "Epoch 6/20\n",
      "63/63 [==============================] - 1s 8ms/step - loss: 1.0808 - accuracy: 0.7120 - val_loss: 1.3030 - val_accuracy: 0.6770\n",
      "Epoch 7/20\n",
      "63/63 [==============================] - 1s 8ms/step - loss: 1.0050 - accuracy: 0.7197 - val_loss: 1.3035 - val_accuracy: 0.6790\n",
      "Epoch 8/20\n",
      "63/63 [==============================] - 1s 8ms/step - loss: 0.9395 - accuracy: 0.7326 - val_loss: 1.2691 - val_accuracy: 0.6990\n",
      "Epoch 9/20\n",
      "63/63 [==============================] - 1s 8ms/step - loss: 0.8810 - accuracy: 0.7573 - val_loss: 1.2853 - val_accuracy: 0.7120\n",
      "Epoch 10/20\n",
      "63/63 [==============================] - 1s 8ms/step - loss: 0.8283 - accuracy: 0.7859 - val_loss: 1.2675 - val_accuracy: 0.7160\n",
      "Epoch 11/20\n",
      "63/63 [==============================] - 1s 9ms/step - loss: 0.7793 - accuracy: 0.7983 - val_loss: 1.2685 - val_accuracy: 0.7290\n",
      "Epoch 12/20\n",
      "63/63 [==============================] - 1s 9ms/step - loss: 0.7350 - accuracy: 0.8108 - val_loss: 1.2901 - val_accuracy: 0.7330\n",
      "Epoch 13/20\n",
      "63/63 [==============================] - 1s 9ms/step - loss: 0.6966 - accuracy: 0.8192 - val_loss: 1.3382 - val_accuracy: 0.7340\n",
      "Epoch 14/20\n",
      "63/63 [==============================] - 1s 8ms/step - loss: 0.6607 - accuracy: 0.8264 - val_loss: 1.3550 - val_accuracy: 0.7170\n",
      "Epoch 15/20\n",
      "63/63 [==============================] - 1s 9ms/step - loss: 0.6309 - accuracy: 0.8358 - val_loss: 1.3517 - val_accuracy: 0.7320\n",
      "Epoch 16/20\n",
      "63/63 [==============================] - 1s 8ms/step - loss: 0.6038 - accuracy: 0.8435 - val_loss: 1.4209 - val_accuracy: 0.7260\n",
      "Epoch 17/20\n",
      "63/63 [==============================] - 1s 8ms/step - loss: 0.5769 - accuracy: 0.8502 - val_loss: 1.3918 - val_accuracy: 0.7220\n",
      "Epoch 18/20\n",
      "63/63 [==============================] - 1s 8ms/step - loss: 0.5522 - accuracy: 0.8542 - val_loss: 1.4351 - val_accuracy: 0.7250\n",
      "Epoch 19/20\n",
      "63/63 [==============================] - 1s 8ms/step - loss: 0.5343 - accuracy: 0.8573 - val_loss: 1.4858 - val_accuracy: 0.7280\n",
      "Epoch 20/20\n",
      "63/63 [==============================] - 1s 8ms/step - loss: 0.5140 - accuracy: 0.8614 - val_loss: 1.5070 - val_accuracy: 0.7240\n"
     ]
    },
    {
     "data": {
      "text/plain": [
       "<keras.src.callbacks.History at 0x1ff5e222550>"
      ]
     },
     "execution_count": 89,
     "metadata": {},
     "output_type": "execute_result"
    }
   ],
   "source": [
    "model = keras.Sequential([\n",
    " layers.Dense(64, activation=\"relu\"),\n",
    " layers.Dense(4, activation=\"relu\"),\n",
    " layers.Dense(46, activation=\"softmax\")\n",
    "])\n",
    "model.compile(optimizer=\"rmsprop\",\n",
    " loss=\"categorical_crossentropy\",\n",
    " metrics=[\"accuracy\"])\n",
    "model.fit(partial_x_train,\n",
    " partial_y_train,\n",
    " epochs=20,\n",
    " batch_size=128,\n",
    " validation_data=(x_val, y_val))"
   ]
  },
  {
   "cell_type": "code",
   "execution_count": null,
   "id": "45f2db61",
   "metadata": {},
   "outputs": [],
   "source": []
  }
 ],
 "metadata": {
  "kernelspec": {
   "display_name": "Python 3 (ipykernel)",
   "language": "python",
   "name": "python3"
  },
  "language_info": {
   "codemirror_mode": {
    "name": "ipython",
    "version": 3
   },
   "file_extension": ".py",
   "mimetype": "text/x-python",
   "name": "python",
   "nbconvert_exporter": "python",
   "pygments_lexer": "ipython3",
   "version": "3.11.3"
  }
 },
 "nbformat": 4,
 "nbformat_minor": 5
}
