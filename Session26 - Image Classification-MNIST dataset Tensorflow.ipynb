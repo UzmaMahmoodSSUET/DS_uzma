{
 "cells": [
  {
   "cell_type": "code",
   "execution_count": 1,
   "id": "d6425d1f",
   "metadata": {},
   "outputs": [],
   "source": [
    "import tensorflow"
   ]
  },
  {
   "cell_type": "code",
   "execution_count": 2,
   "id": "4f0f72a5",
   "metadata": {},
   "outputs": [],
   "source": [
    "from tensorflow.keras.datasets import mnist\n",
    "(train_images, train_labels), (test_images, test_labels) = mnist.load_data()"
   ]
  },
  {
   "cell_type": "code",
   "execution_count": 3,
   "id": "66b24406",
   "metadata": {},
   "outputs": [],
   "source": [
    "from PIL import Image"
   ]
  },
  {
   "cell_type": "code",
   "execution_count": 4,
   "id": "5163d33d",
   "metadata": {},
   "outputs": [
    {
     "data": {
      "image/png": "[encoded data removed]",
      "text/plain": [
       "<PIL.Image.Image image mode=L size=28x28>"
      ]
     },
     "execution_count": 4,
     "metadata": {},
     "output_type": "execute_result"
    }
   ],
   "source": [
    "im = Image.fromarray(train_images[0])\n",
    "im"
   ]
  },
  {
   "cell_type": "code",
   "execution_count": 5,
   "id": "fae70c84",
   "metadata": {},
   "outputs": [],
   "source": [
    "# from tensorflow import keras\n",
    "# from tensorflow.keras import layers\n",
    "# model = keras.Sequential([\n",
    "#                             layers.Dense(512, activation=\"relu\"),\n",
    "#                             layers.Dense(10, activation=\"softmax\")\n",
    "#                          ])"
   ]
  },
  {
   "cell_type": "markdown",
   "id": "44bc8199",
   "metadata": {},
   "source": [
    "# Another way to create a model"
   ]
  },
  {
   "cell_type": "code",
   "execution_count": 5,
   "id": "0ea0f690",
   "metadata": {},
   "outputs": [],
   "source": [
    "from tensorflow.keras import models,layers\n",
    "\n",
    "model = models.Sequential()   \n",
    "\n",
    "model.add(layers.Dense(512, activation='relu', input_shape=(28*28,)))\n",
    "\n",
    "model.add(layers.Dense(10, activation='softmax'))"
   ]
  },
  {
   "cell_type": "markdown",
   "id": "97c67307",
   "metadata": {},
   "source": [
    "# Data must be in ths shape as the the model required"
   ]
  },
  {
   "cell_type": "code",
   "execution_count": 7,
   "id": "e6bfd140",
   "metadata": {},
   "outputs": [],
   "source": [
    "train_images= train_images.reshape((60000, 784))\n",
    "                                    \n",
    "train_images = train_images.astype(\"float32\") / 255\n",
    "\n",
    "\n",
    "test_images = test_images.reshape((10000, 784))\n",
    "test_images = test_images.astype(\"float32\") / 255"
   ]
  },
  {
   "cell_type": "markdown",
   "id": "3c1ce21b",
   "metadata": {},
   "source": [
    "# Before fitting model must be compiled \n",
    "   - if we are enocding our data using Label Encoder, we will have to use 'sparse_categorical_crossentropy'\n",
    "   - if we are encoding our data using One Hot Encoder,We will have to use 'categorical_crossentropy'"
   ]
  },
  {
   "cell_type": "code",
   "execution_count": 8,
   "id": "4c0ef06f",
   "metadata": {},
   "outputs": [
    {
     "data": {
      "text/plain": [
       "array([0., 0., 0., 0., 0., 1., 0., 0., 0., 0.], dtype=float32)"
      ]
     },
     "execution_count": 8,
     "metadata": {},
     "output_type": "execute_result"
    }
   ],
   "source": [
    "from tensorflow.keras.utils import to_categorical\n",
    "# train_labels= to_categorical(train_labels)\n",
    "test_labels_by_cat  = to_categorical(test_labels)\n",
    "train_labels_by_cat  = to_categorical(train_labels)\n",
    "train_labels_by_cat[0]"
   ]
  },
  {
   "cell_type": "markdown",
   "id": "41988757",
   "metadata": {},
   "source": [
    "In simple english, your loss function should be categorical_crossentropy if you have applied labelbinarizer (for hot encoding) to your test data. If you have not hot encoded your test data, you should use'sparse_categorical_crossentropy'."
   ]
  },
  {
   "cell_type": "code",
   "execution_count": 9,
   "id": "7505bdc3",
   "metadata": {},
   "outputs": [],
   "source": [
    "model.compile(optimizer=\"rmsprop\",loss=\"categorical_crossentropy\",metrics=[\"accuracy\"])"
   ]
  },
  {
   "cell_type": "markdown",
   "id": "f9533f66",
   "metadata": {},
   "source": [
    "# Fitting / Trainnig the model"
   ]
  },
  {
   "cell_type": "code",
   "execution_count": 10,
   "id": "1d30d111",
   "metadata": {},
   "outputs": [
    {
     "name": "stdout",
     "output_type": "stream",
     "text": [
      "Epoch 1/5\n",
      "469/469 [==============================] - 3s 5ms/step - loss: 2.2375 - accuracy: 0.2540\n",
      "Epoch 2/5\n",
      "469/469 [==============================] - 2s 5ms/step - loss: 1.6835 - accuracy: 0.5961\n",
      "Epoch 3/5\n",
      "469/469 [==============================] - 2s 5ms/step - loss: 1.0505 - accuracy: 0.7488\n",
      "Epoch 4/5\n",
      "469/469 [==============================] - 2s 5ms/step - loss: 0.7515 - accuracy: 0.8112\n",
      "Epoch 5/5\n",
      "469/469 [==============================] - 2s 5ms/step - loss: 0.6062 - accuracy: 0.8402\n"
     ]
    },
    {
     "data": {
      "text/plain": [
       "<keras.src.callbacks.History at 0x1ff6542a090>"
      ]
     },
     "execution_count": 10,
     "metadata": {},
     "output_type": "execute_result"
    }
   ],
   "source": [
    "model.fit(train_images, train_labels_by_cat, epochs=5, batch_size=128)"
   ]
  },
  {
   "cell_type": "code",
   "execution_count": 11,
   "id": "6d1079ec",
   "metadata": {},
   "outputs": [
    {
     "data": {
      "text/plain": [
       "array([5, 0, 4, ..., 5, 6, 8], dtype=uint8)"
      ]
     },
     "execution_count": 11,
     "metadata": {},
     "output_type": "execute_result"
    }
   ],
   "source": [
    "train_labels"
   ]
  },
  {
   "cell_type": "markdown",
   "id": "719524d4",
   "metadata": {},
   "source": [
    "# Model Layers Summary"
   ]
  },
  {
   "cell_type": "code",
   "execution_count": 12,
   "id": "e11cadfd",
   "metadata": {},
   "outputs": [
    {
     "name": "stdout",
     "output_type": "stream",
     "text": [
      "Model: \"sequential\"\n",
      "_________________________________________________________________\n",
      " Layer (type)                Output Shape              Param #   \n",
      "=================================================================\n",
      " dense (Dense)               (None, 512)               401920    \n",
      "                                                                 \n",
      " dense_1 (Dense)             (None, 10)                5130      \n",
      "                                                                 \n",
      "=================================================================\n",
      "Total params: 407050 (1.55 MB)\n",
      "Trainable params: 407050 (1.55 MB)\n",
      "Non-trainable params: 0 (0.00 Byte)\n",
      "_________________________________________________________________\n"
     ]
    }
   ],
   "source": [
    "model.summary()"
   ]
  },
  {
   "cell_type": "code",
   "execution_count": 13,
   "id": "1b6fb332",
   "metadata": {},
   "outputs": [
    {
     "name": "stdout",
     "output_type": "stream",
     "text": [
      "313/313 [==============================] - 1s 2ms/step - loss: 0.5443 - accuracy: 0.8548\n"
     ]
    }
   ],
   "source": [
    "test_loss, test_acc = model.evaluate(test_images, test_labels_by_cat)"
   ]
  },
  {
   "cell_type": "code",
   "execution_count": 14,
   "id": "08977c28",
   "metadata": {},
   "outputs": [
    {
     "name": "stdout",
     "output_type": "stream",
     "text": [
      "1/1 [==============================] - 0s 80ms/step\n"
     ]
    },
    {
     "data": {
      "text/plain": [
       "7"
      ]
     },
     "execution_count": 14,
     "metadata": {},
     "output_type": "execute_result"
    }
   ],
   "source": [
    "import numpy as np\n",
    "np.argmax(model.predict(test_images[[0]]))"
   ]
  },
  {
   "cell_type": "code",
   "execution_count": 15,
   "id": "8930becf",
   "metadata": {},
   "outputs": [
    {
     "data": {
      "text/plain": [
       "7"
      ]
     },
     "execution_count": 15,
     "metadata": {},
     "output_type": "execute_result"
    }
   ],
   "source": [
    "test_labels[0]"
   ]
  },
  {
   "cell_type": "code",
   "execution_count": 28,
   "id": "2a37529c",
   "metadata": {},
   "outputs": [
    {
     "data": {
      "image/png": "[encoded data removed]",
      "text/plain": [
       "<PIL.PngImagePlugin.PngImageFile image mode=RGBA size=28x28>"
      ]
     },
     "execution_count": 28,
     "metadata": {},
     "output_type": "execute_result"
    }
   ],
   "source": [
    "four = Image.open('four.png')\n",
    "four"
   ]
  },
  {
   "cell_type": "code",
   "execution_count": 31,
   "id": "25e2e988",
   "metadata": {},
   "outputs": [],
   "source": [
    "image = four.convert(\"L\")\n",
    "\n",
    "# Save the grayscale image\n",
    "image.save(\"grayscale_four.png\")"
   ]
  },
  {
   "cell_type": "code",
   "execution_count": 32,
   "id": "bb1f2b67",
   "metadata": {},
   "outputs": [
    {
     "data": {
      "text/plain": [
       "(1, 784)"
      ]
     },
     "execution_count": 32,
     "metadata": {},
     "output_type": "execute_result"
    }
   ],
   "source": [
    "eight_grey = Image.open('grayscale_four.png')\n",
    "arr = np.asarray(eight_grey)\n",
    "arr = arr.reshape((1,784))\n",
    "arr.shape"
   ]
  },
  {
   "cell_type": "code",
   "execution_count": 39,
   "id": "6e1d9d68",
   "metadata": {},
   "outputs": [
    {
     "name": "stdout",
     "output_type": "stream",
     "text": [
      "1/1 [==============================] - 0s 18ms/step\n"
     ]
    },
    {
     "data": {
      "text/plain": [
       "2"
      ]
     },
     "execution_count": 39,
     "metadata": {},
     "output_type": "execute_result"
    }
   ],
   "source": [
    "eight = Image.open('four.png')\n",
    "image.save(\"grayscale_four.png\")\n",
    "\n",
    "np.argmax(model.predict(np.asarray(Image.open('grayscale_four.png')).reshape(1,784)))"
   ]
  },
  {
   "cell_type": "code",
   "execution_count": 42,
   "id": "a04c0fd8",
   "metadata": {},
   "outputs": [
    {
     "name": "stdout",
     "output_type": "stream",
     "text": [
      "1/1 [==============================] - 0s 19ms/step\n"
     ]
    }
   ],
   "source": [
    "p = model.predict(arr)"
   ]
  },
  {
   "cell_type": "code",
   "execution_count": 43,
   "id": "b5424ee4",
   "metadata": {},
   "outputs": [
    {
     "data": {
      "text/plain": [
       "2"
      ]
     },
     "execution_count": 43,
     "metadata": {},
     "output_type": "execute_result"
    }
   ],
   "source": [
    "np.argmax(p)"
   ]
  },
  {
   "cell_type": "code",
   "execution_count": 44,
   "id": "a39d4665",
   "metadata": {},
   "outputs": [],
   "source": [
    "import tensorflow as tf"
   ]
  },
  {
   "cell_type": "code",
   "execution_count": 45,
   "id": "727c9790",
   "metadata": {},
   "outputs": [],
   "source": [
    "from tensorflow import keras "
   ]
  },
  {
   "cell_type": "code",
   "execution_count": 46,
   "id": "b4daec0f",
   "metadata": {},
   "outputs": [],
   "source": [
    "keras.models.Sequential()\n",
    "from tensorflow.keras.layers import Dense "
   ]
  },
  {
   "cell_type": "code",
   "execution_count": 47,
   "id": "149b0c72",
   "metadata": {},
   "outputs": [],
   "source": [
    "import pandas as pd\n",
    "data  = pd.DataFrame({'colors':['Red','Green','Blue','Green','Blue','Red','Green','Red']})"
   ]
  },
  {
   "cell_type": "code",
   "execution_count": 48,
   "id": "b3db07ff",
   "metadata": {},
   "outputs": [
    {
     "data": {
      "text/plain": [
       "array(['Red', 'Green', 'Blue'], dtype=object)"
      ]
     },
     "execution_count": 48,
     "metadata": {},
     "output_type": "execute_result"
    }
   ],
   "source": [
    "data.colors.unique()"
   ]
  },
  {
   "cell_type": "code",
   "execution_count": 49,
   "id": "3f7947b9",
   "metadata": {},
   "outputs": [
    {
     "data": {
      "text/html": [
       "<div>\n",
       "<style scoped>\n",
       "    .dataframe tbody tr th:only-of-type {\n",
       "        vertical-align: middle;\n",
       "    }\n",
       "\n",
       "    .dataframe tbody tr th {\n",
       "        vertical-align: top;\n",
       "    }\n",
       "\n",
       "    .dataframe thead th {\n",
       "        text-align: right;\n",
       "    }\n",
       "</style>\n",
       "<table border=\"1\" class=\"dataframe\">\n",
       "  <thead>\n",
       "    <tr style=\"text-align: right;\">\n",
       "      <th></th>\n",
       "      <th>colors_Blue</th>\n",
       "      <th>colors_Green</th>\n",
       "      <th>colors_Red</th>\n",
       "    </tr>\n",
       "  </thead>\n",
       "  <tbody>\n",
       "    <tr>\n",
       "      <th>0</th>\n",
       "      <td>0</td>\n",
       "      <td>0</td>\n",
       "      <td>1</td>\n",
       "    </tr>\n",
       "    <tr>\n",
       "      <th>1</th>\n",
       "      <td>0</td>\n",
       "      <td>1</td>\n",
       "      <td>0</td>\n",
       "    </tr>\n",
       "    <tr>\n",
       "      <th>2</th>\n",
       "      <td>1</td>\n",
       "      <td>0</td>\n",
       "      <td>0</td>\n",
       "    </tr>\n",
       "    <tr>\n",
       "      <th>3</th>\n",
       "      <td>0</td>\n",
       "      <td>1</td>\n",
       "      <td>0</td>\n",
       "    </tr>\n",
       "    <tr>\n",
       "      <th>4</th>\n",
       "      <td>1</td>\n",
       "      <td>0</td>\n",
       "      <td>0</td>\n",
       "    </tr>\n",
       "    <tr>\n",
       "      <th>5</th>\n",
       "      <td>0</td>\n",
       "      <td>0</td>\n",
       "      <td>1</td>\n",
       "    </tr>\n",
       "    <tr>\n",
       "      <th>6</th>\n",
       "      <td>0</td>\n",
       "      <td>1</td>\n",
       "      <td>0</td>\n",
       "    </tr>\n",
       "    <tr>\n",
       "      <th>7</th>\n",
       "      <td>0</td>\n",
       "      <td>0</td>\n",
       "      <td>1</td>\n",
       "    </tr>\n",
       "  </tbody>\n",
       "</table>\n",
       "</div>"
      ],
      "text/plain": [
       "   colors_Blue  colors_Green  colors_Red\n",
       "0            0             0           1\n",
       "1            0             1           0\n",
       "2            1             0           0\n",
       "3            0             1           0\n",
       "4            1             0           0\n",
       "5            0             0           1\n",
       "6            0             1           0\n",
       "7            0             0           1"
      ]
     },
     "execution_count": 49,
     "metadata": {},
     "output_type": "execute_result"
    }
   ],
   "source": [
    "pd.get_dummies(data)"
   ]
  },
  {
   "cell_type": "code",
   "execution_count": null,
   "id": "641063a4",
   "metadata": {},
   "outputs": [],
   "source": []
  },
  {
   "cell_type": "code",
   "execution_count": null,
   "id": "30cc58ab",
   "metadata": {},
   "outputs": [],
   "source": []
  }
 ],
 "metadata": {
  "kernelspec": {
   "display_name": "Python 3 (ipykernel)",
   "language": "python",
   "name": "python3"
  },
  "language_info": {
   "codemirror_mode": {
    "name": "ipython",
    "version": 3
   },
   "file_extension": ".py",
   "mimetype": "text/x-python",
   "name": "python",
   "nbconvert_exporter": "python",
   "pygments_lexer": "ipython3",
   "version": "3.11.3"
  }
 },
 "nbformat": 4,
 "nbformat_minor": 5
}
